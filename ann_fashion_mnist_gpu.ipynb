{
  "cells": [
    {
      "cell_type": "markdown",
      "metadata": {
        "id": "view-in-github",
        "colab_type": "text"
      },
      "source": [
        "<a href=\"https://colab.research.google.com/github/preethamgoud9/-Nanogpt/blob/main/ann_fashion_mnist_gpu.ipynb\" target=\"_parent\"><img src=\"https://colab.research.google.com/assets/colab-badge.svg\" alt=\"Open In Colab\"/></a>"
      ]
    },
    {
      "cell_type": "code",
      "execution_count": 61,
      "metadata": {
        "id": "3krBCNfAsr0E"
      },
      "outputs": [],
      "source": [
        "import pandas as pd\n",
        "from sklearn.model_selection import train_test_split\n",
        "import torch\n",
        "import torch.nn as nn\n",
        "import torch.optim as optim\n",
        "from torch.utils.data import Dataset,DataLoader\n",
        "import matplotlib.pyplot as plt"
      ]
    },
    {
      "cell_type": "code",
      "execution_count": 62,
      "metadata": {
        "colab": {
          "base_uri": "https://localhost:8080/"
        },
        "id": "PJnEdhn9sr0G",
        "outputId": "ef06f8a6-8b3b-4930-e938-e621792675e0"
      },
      "outputs": [
        {
          "output_type": "execute_result",
          "data": {
            "text/plain": [
              "<torch._C.Generator at 0x7a97c0309950>"
            ]
          },
          "metadata": {},
          "execution_count": 62
        }
      ],
      "source": [
        "torch.manual_seed(42)"
      ]
    },
    {
      "cell_type": "code",
      "source": [
        "device = torch.device('cuda' if torch.cuda.is_available() else 'cpu')\n",
        "print(f\"using devide:{device}\")"
      ],
      "metadata": {
        "colab": {
          "base_uri": "https://localhost:8080/"
        },
        "id": "Qp35htg_u2dE",
        "outputId": "4e054d59-9607-4023-fab1-f03df650b12a"
      },
      "execution_count": 63,
      "outputs": [
        {
          "output_type": "stream",
          "name": "stdout",
          "text": [
            "using devide:cuda\n"
          ]
        }
      ]
    },
    {
      "cell_type": "code",
      "execution_count": 64,
      "metadata": {
        "colab": {
          "base_uri": "https://localhost:8080/"
        },
        "id": "XZagUzAxsr0H",
        "outputId": "258dd1d2-10c0-4dbc-e959-de0f35436afa"
      },
      "outputs": [
        {
          "output_type": "execute_result",
          "data": {
            "text/plain": [
              "(60000, 785)"
            ]
          },
          "metadata": {},
          "execution_count": 64
        }
      ],
      "source": [
        "df = pd.read_csv(\"fashion-mnist_train.csv\")\n",
        "df.shape"
      ]
    },
    {
      "cell_type": "code",
      "execution_count": 65,
      "metadata": {
        "id": "sU2J-LEysr0I"
      },
      "outputs": [],
      "source": [
        "#train test split\n",
        "x = df.iloc[:,1:].values\n",
        "y = df.iloc[:,0].values"
      ]
    },
    {
      "cell_type": "code",
      "execution_count": 66,
      "metadata": {
        "id": "pnAFuBRBsr0I"
      },
      "outputs": [],
      "source": [
        "x_train,x_test,y_train,y_test = train_test_split(x,y , test_size=0.2 , random_state=42)"
      ]
    },
    {
      "cell_type": "code",
      "execution_count": 67,
      "metadata": {
        "id": "wOmIClS1sr0I"
      },
      "outputs": [],
      "source": [
        "#scaling the features, basically we are normalizing the values to an smaller intervals (0-1)\n",
        "x_train = x_train/255.0\n",
        "x_test = x_test/255.0"
      ]
    },
    {
      "cell_type": "code",
      "execution_count": 68,
      "metadata": {
        "id": "C9sTDSCusr0J"
      },
      "outputs": [],
      "source": [
        "#creating custom dataset\n",
        "class CustomDataset(Dataset):\n",
        "\n",
        "    def __init__(self,features,labels):\n",
        "\n",
        "        self.features = torch.tensor(features, dtype=torch.float32)\n",
        "        self.labels = torch.tensor(labels,dtype=torch.long)\n",
        "\n",
        "    def __len__(self):\n",
        "        return len(self.features)\n",
        "\n",
        "    def __getitem__(self,index):\n",
        "        return self.features[index],self.labels[index]"
      ]
    },
    {
      "cell_type": "code",
      "execution_count": 69,
      "metadata": {
        "id": "lsfvgvwLsr0J"
      },
      "outputs": [],
      "source": [
        "#create train_dataset object\n",
        "train_dataset = CustomDataset(x_train,y_train)"
      ]
    },
    {
      "cell_type": "code",
      "execution_count": 70,
      "metadata": {
        "colab": {
          "base_uri": "https://localhost:8080/"
        },
        "id": "IB3SSFPBsr0J",
        "outputId": "de40bbd3-ebb3-43bd-9bc1-48ba98e5af1f"
      },
      "outputs": [
        {
          "output_type": "execute_result",
          "data": {
            "text/plain": [
              "48000"
            ]
          },
          "metadata": {},
          "execution_count": 70
        }
      ],
      "source": [
        "len(train_dataset)"
      ]
    },
    {
      "cell_type": "code",
      "execution_count": 71,
      "metadata": {
        "id": "k14OVLVWsr0K"
      },
      "outputs": [],
      "source": [
        "#create train_dataset object\n",
        "test_dataset = CustomDataset(x_test,y_test)"
      ]
    },
    {
      "cell_type": "code",
      "execution_count": 72,
      "metadata": {
        "colab": {
          "base_uri": "https://localhost:8080/"
        },
        "id": "RL0PJw2vsr0K",
        "outputId": "6cfaaff8-4cb9-4167-bd4c-450dc31950f2"
      },
      "outputs": [
        {
          "output_type": "execute_result",
          "data": {
            "text/plain": [
              "12000"
            ]
          },
          "metadata": {},
          "execution_count": 72
        }
      ],
      "source": [
        "len(test_dataset)"
      ]
    },
    {
      "cell_type": "code",
      "execution_count": 73,
      "metadata": {
        "id": "F1pMzzzDsr0K"
      },
      "outputs": [],
      "source": [
        "#creating train and test loader\n",
        "train_loader = DataLoader(train_dataset,batch_size=32,shuffle=True)\n",
        "test_loader = DataLoader(test_dataset,batch_size=32,shuffle=False)"
      ]
    },
    {
      "cell_type": "code",
      "execution_count": 74,
      "metadata": {
        "id": "-C2-gm9msr0K"
      },
      "outputs": [],
      "source": [
        "#define nn class\n",
        "class MyNN(nn.Module):\n",
        "\n",
        "    def __init__(self,num_features):\n",
        "        super().__init__()\n",
        "\n",
        "        self.model = nn.Sequential(\n",
        "            nn.Linear(num_features,128),\n",
        "            nn.BatchNorm1d(128),\n",
        "            nn.ReLU(),\n",
        "            nn.Dropout(p=0.3),\n",
        "            nn.Linear(128,64),\n",
        "            nn.BatchNorm1d(64),\n",
        "            nn.ReLU(),\n",
        "            nn.Dropout(p=0.3),\n",
        "            nn.Linear(64,10)\n",
        "        )\n",
        "    def forward(self,x):\n",
        "        return self.model(x)"
      ]
    },
    {
      "cell_type": "code",
      "execution_count": 75,
      "metadata": {
        "id": "MKSF7-q-sr0K"
      },
      "outputs": [],
      "source": [
        "#set learning rate and epochs\n",
        "learning_rate = 0.1\n",
        "epochs = 100"
      ]
    },
    {
      "cell_type": "code",
      "execution_count": 76,
      "metadata": {
        "id": "C5IFZGpMsr0L"
      },
      "outputs": [],
      "source": [
        "#instantiate the model\n",
        "model = MyNN(x_train.shape[1])\n",
        "model = model.to(device)\n",
        "\n",
        "#loss function\n",
        "criterion = nn.CrossEntropyLoss()\n",
        "\n",
        "#optimizer\n",
        "optimizer = optim.SGD(model.parameters(),lr =learning_rate, weight_decay=1e-4)"
      ]
    },
    {
      "cell_type": "code",
      "execution_count": 77,
      "metadata": {
        "colab": {
          "base_uri": "https://localhost:8080/"
        },
        "id": "XknTnzAqsr0L",
        "outputId": "6261a025-723d-42b8-b44f-5d20cc85b7f5"
      },
      "outputs": [
        {
          "output_type": "stream",
          "name": "stdout",
          "text": [
            "Epoch:1 and Loss : 0.6249084644317627\n",
            "Epoch:2 and Loss : 0.4919969036479791\n",
            "Epoch:3 and Loss : 0.455620892132322\n",
            "Epoch:4 and Loss : 0.4338064221441746\n",
            "Epoch:5 and Loss : 0.41715061252812546\n",
            "Epoch:6 and Loss : 0.4056409275531769\n",
            "Epoch:7 and Loss : 0.39416088837385177\n",
            "Epoch:8 and Loss : 0.3858017429014047\n",
            "Epoch:9 and Loss : 0.37439838365713757\n",
            "Epoch:10 and Loss : 0.37257265872259937\n",
            "Epoch:11 and Loss : 0.36783314737677575\n",
            "Epoch:12 and Loss : 0.35720522227386636\n",
            "Epoch:13 and Loss : 0.3505206037561099\n",
            "Epoch:14 and Loss : 0.3449219425916672\n",
            "Epoch:15 and Loss : 0.34472561853379013\n",
            "Epoch:16 and Loss : 0.337321236188213\n",
            "Epoch:17 and Loss : 0.3344038932522138\n",
            "Epoch:18 and Loss : 0.3302020431111256\n",
            "Epoch:19 and Loss : 0.33063985271751883\n",
            "Epoch:20 and Loss : 0.3262277199824651\n",
            "Epoch:21 and Loss : 0.32084967653950053\n",
            "Epoch:22 and Loss : 0.3183093220243851\n",
            "Epoch:23 and Loss : 0.3225850307941437\n",
            "Epoch:24 and Loss : 0.31459669538835683\n",
            "Epoch:25 and Loss : 0.3134305283402403\n",
            "Epoch:26 and Loss : 0.31424527227630217\n",
            "Epoch:27 and Loss : 0.3107087374528249\n",
            "Epoch:28 and Loss : 0.3090560559928417\n",
            "Epoch:29 and Loss : 0.3045613792786996\n",
            "Epoch:30 and Loss : 0.3055545740922292\n",
            "Epoch:31 and Loss : 0.30498932077238955\n",
            "Epoch:32 and Loss : 0.2990328772937258\n",
            "Epoch:33 and Loss : 0.29571471958607437\n",
            "Epoch:34 and Loss : 0.30252708928783734\n",
            "Epoch:35 and Loss : 0.2975629138424993\n",
            "Epoch:36 and Loss : 0.2932887506360809\n",
            "Epoch:37 and Loss : 0.2965445115913947\n",
            "Epoch:38 and Loss : 0.2942666108210882\n",
            "Epoch:39 and Loss : 0.2969938259695967\n",
            "Epoch:40 and Loss : 0.29269407422840593\n",
            "Epoch:41 and Loss : 0.290096302015086\n",
            "Epoch:42 and Loss : 0.2930258683388432\n",
            "Epoch:43 and Loss : 0.2836366624633471\n",
            "Epoch:44 and Loss : 0.29194909627983967\n",
            "Epoch:45 and Loss : 0.2869964663659533\n",
            "Epoch:46 and Loss : 0.28614653352399666\n",
            "Epoch:47 and Loss : 0.28337485577662785\n",
            "Epoch:48 and Loss : 0.28538518013060094\n",
            "Epoch:49 and Loss : 0.2814345730543137\n",
            "Epoch:50 and Loss : 0.28615345507860185\n",
            "Epoch:51 and Loss : 0.2813802748893698\n",
            "Epoch:52 and Loss : 0.2850787386546532\n",
            "Epoch:53 and Loss : 0.2822421482975284\n",
            "Epoch:54 and Loss : 0.27664748479177553\n",
            "Epoch:55 and Loss : 0.2791844279145201\n",
            "Epoch:56 and Loss : 0.2762236403276523\n",
            "Epoch:57 and Loss : 0.27546933208902674\n",
            "Epoch:58 and Loss : 0.28102927749355633\n",
            "Epoch:59 and Loss : 0.2790316756119331\n",
            "Epoch:60 and Loss : 0.27124865821997324\n",
            "Epoch:61 and Loss : 0.2757849528218309\n",
            "Epoch:62 and Loss : 0.2788490963007013\n",
            "Epoch:63 and Loss : 0.27761002896726134\n",
            "Epoch:64 and Loss : 0.2741391608417034\n",
            "Epoch:65 and Loss : 0.27400809656083586\n",
            "Epoch:66 and Loss : 0.27122706902523835\n",
            "Epoch:67 and Loss : 0.2737302036608259\n",
            "Epoch:68 and Loss : 0.2706573647931218\n",
            "Epoch:69 and Loss : 0.2688021707485119\n",
            "Epoch:70 and Loss : 0.2695795670300722\n",
            "Epoch:71 and Loss : 0.2715306938836972\n",
            "Epoch:72 and Loss : 0.26825547895083823\n",
            "Epoch:73 and Loss : 0.26689025560518104\n",
            "Epoch:74 and Loss : 0.2701130452801784\n",
            "Epoch:75 and Loss : 0.27097368272642297\n",
            "Epoch:76 and Loss : 0.26616485083599883\n",
            "Epoch:77 and Loss : 0.2684132562776407\n",
            "Epoch:78 and Loss : 0.2696920067667961\n",
            "Epoch:79 and Loss : 0.265948080641528\n",
            "Epoch:80 and Loss : 0.2689573363761107\n",
            "Epoch:81 and Loss : 0.2697894318761925\n",
            "Epoch:82 and Loss : 0.2651482165455818\n",
            "Epoch:83 and Loss : 0.26203845178832613\n",
            "Epoch:84 and Loss : 0.26536295682440203\n",
            "Epoch:85 and Loss : 0.26354520075271526\n",
            "Epoch:86 and Loss : 0.2643352147017916\n",
            "Epoch:87 and Loss : 0.2632184970378876\n",
            "Epoch:88 and Loss : 0.2622598364452521\n",
            "Epoch:89 and Loss : 0.2637392562714716\n",
            "Epoch:90 and Loss : 0.2622185229696333\n",
            "Epoch:91 and Loss : 0.2610011895932257\n",
            "Epoch:92 and Loss : 0.2594923672750592\n",
            "Epoch:93 and Loss : 0.26409812362740437\n",
            "Epoch:94 and Loss : 0.2585085889995098\n",
            "Epoch:95 and Loss : 0.2598261367777983\n",
            "Epoch:96 and Loss : 0.25824179737021524\n",
            "Epoch:97 and Loss : 0.260292636650304\n",
            "Epoch:98 and Loss : 0.26289867247144383\n",
            "Epoch:99 and Loss : 0.2591799683657785\n",
            "Epoch:100 and Loss : 0.2601920379251242\n"
          ]
        }
      ],
      "source": [
        "#training loop\n",
        "for epoch in range(epochs):\n",
        "\n",
        "    total_epoch_loss = 0\n",
        "\n",
        "    for batch_features, batch_labels in train_loader:\n",
        "\n",
        "        #move data to gpu\n",
        "        batch_features, batch_labels =batch_features.to(device), batch_labels.to(device)\n",
        "\n",
        "        #forward pass\n",
        "        outputs = model(batch_features)\n",
        "        #loss calculation\n",
        "        loss =criterion(outputs,batch_labels)\n",
        "        #backpropagation\n",
        "        optimizer.zero_grad()\n",
        "        loss.backward()\n",
        "        #update the parameters\n",
        "        optimizer.step()\n",
        "\n",
        "        total_epoch_loss = total_epoch_loss + loss.item()\n",
        "\n",
        "    avg_loss = total_epoch_loss/len(train_loader)\n",
        "    print(f\"Epoch:{epoch +1} and Loss : {avg_loss}\")\n"
      ]
    },
    {
      "cell_type": "code",
      "execution_count": 78,
      "metadata": {
        "colab": {
          "base_uri": "https://localhost:8080/"
        },
        "id": "pJkOcfiisr0L",
        "outputId": "00c2225d-2a75-470f-9753-9a56cebfd503"
      },
      "outputs": [
        {
          "output_type": "execute_result",
          "data": {
            "text/plain": [
              "MyNN(\n",
              "  (model): Sequential(\n",
              "    (0): Linear(in_features=784, out_features=128, bias=True)\n",
              "    (1): BatchNorm1d(128, eps=1e-05, momentum=0.1, affine=True, track_running_stats=True)\n",
              "    (2): ReLU()\n",
              "    (3): Dropout(p=0.3, inplace=False)\n",
              "    (4): Linear(in_features=128, out_features=64, bias=True)\n",
              "    (5): BatchNorm1d(64, eps=1e-05, momentum=0.1, affine=True, track_running_stats=True)\n",
              "    (6): ReLU()\n",
              "    (7): Dropout(p=0.3, inplace=False)\n",
              "    (8): Linear(in_features=64, out_features=10, bias=True)\n",
              "  )\n",
              ")"
            ]
          },
          "metadata": {},
          "execution_count": 78
        }
      ],
      "source": [
        "#set the model to eval mode\n",
        "model.eval()"
      ]
    },
    {
      "cell_type": "code",
      "execution_count": 79,
      "metadata": {
        "colab": {
          "base_uri": "https://localhost:8080/"
        },
        "id": "yN23cbM5sr0L",
        "outputId": "49d524d3-fc42-41c3-cf65-9fe9df0ef628"
      },
      "outputs": [
        {
          "output_type": "stream",
          "name": "stdout",
          "text": [
            "0.88325\n"
          ]
        }
      ],
      "source": [
        "#evaluation\n",
        "total = 0\n",
        "correct = 0\n",
        "with torch.no_grad():\n",
        "    for batch_features,batch_labels in test_loader:\n",
        "\n",
        "        #move data to gpu\n",
        "        batch_features, batch_labels =batch_features.to(device), batch_labels.to(device)\n",
        "\n",
        "        outputs = model(batch_features)\n",
        "        _,predicted = torch.max(outputs,1)\n",
        "\n",
        "        total = total + batch_features.shape[0]\n",
        "        correct = correct + (predicted == batch_labels).sum().item()\n",
        "\n",
        "    accuracy = correct/total\n",
        "    print(accuracy)\n",
        "\n"
      ]
    },
    {
      "cell_type": "code",
      "execution_count": null,
      "metadata": {
        "id": "x6dRmjJVsr0L"
      },
      "outputs": [],
      "source": []
    }
  ],
  "metadata": {
    "kernelspec": {
      "display_name": "Python 3",
      "name": "python3"
    },
    "language_info": {
      "codemirror_mode": {
        "name": "ipython",
        "version": 3
      },
      "file_extension": ".py",
      "mimetype": "text/x-python",
      "name": "python",
      "nbconvert_exporter": "python",
      "pygments_lexer": "ipython3",
      "version": "3.13.2"
    },
    "colab": {
      "provenance": [],
      "gpuType": "T4",
      "toc_visible": true,
      "include_colab_link": true
    },
    "accelerator": "GPU"
  },
  "nbformat": 4,
  "nbformat_minor": 0
}